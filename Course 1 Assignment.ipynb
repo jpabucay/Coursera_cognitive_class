{
 "cells": [
  {
   "cell_type": "markdown",
   "metadata": {},
   "source": [
    "# My Jupyter Notebook on IBM Data Science Experience"
   ]
  },
  {
   "cell_type": "markdown",
   "metadata": {},
   "source": [
    
    
    "**Jean Paul Abucay**  \n",
    "Systems Engineer"
   ]
  },
  {
   "cell_type": "markdown",
   "metadata": {},
   "source": [
    "*I am interested in data science because it's the foundation of Big Data which is re-shaping the whole IT landscape.*  \n",
    "*I came across with Big Data while learning Python here in Coursera in 2014.*"
   ]
  },
  {
   "cell_type": "markdown",
   "metadata": {},
   "source": [
    "### Extracting the first element in the array named \"arr\" and printing it"
   ]
  },
  {
   "cell_type": "code",
   "execution_count": 5,
   "metadata": {
    "collapsed": false
   },
   "outputs": [
    {
     "name": "stdout",
     "output_type": "stream",
     "text": [
      "1\n"
     ]
    }
   ],
   "source": [
    "arr = [1,2,3]\n",
    "a = arr[0]\n",
    "print(a)"
   ]
  },
  {
   "cell_type": "markdown",
   "metadata": {},
   "source": [
    "\n",
    "  <H1>HTML Tag</H1>\n",
    "\n",
    " <body>\n",
    "  <dd>using inline html.</dd>\n",
    "  <dd>_using inline html._</dd>\n",
    "  <dd>**using inline html.**</dd>\n",
    "\n",
    "   <br></br>\n",
    "   <br></br>\n",
    "   <a href=\"http://coursera.org\">here</a> to go to Coursera.\n",
    "   </body>\n",
    "\n",
    "\n",
    "\n",
    "| Employee_ID   | Dept_Name     |\n",
    "| ------------- |:-------------:|\n",
    "| 001           | IT            |\n",
    "| 002           | Analytics     |\n",
    "| 003           | Big Data      |\n",
    "\n"
   ]
  }
 ],
 "metadata": {
  "kernelspec": {
   "display_name": "Python 2",
   "language": "python",
   "name": "python2"
  },
  "language_info": {
   "codemirror_mode": {
    "name": "ipython",
    "version": 2
   },
   "file_extension": ".py",
   "mimetype": "text/x-python",
   "name": "python",
   "nbconvert_exporter": "python",
   "pygments_lexer": "ipython2",
   "version": "2.7.12"
  },
  "widgets": {
   "state": {},
   "version": "1.1.2"
  }
 },
 "nbformat": 4,
 "nbformat_minor": 0
}
